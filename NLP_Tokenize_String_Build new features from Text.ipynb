{
 "cells": [
  {
   "cell_type": "markdown",
   "id": "e68b1a8a",
   "metadata": {},
   "source": [
    "# Bag of Words\n",
    "\n",
    "A bag-of-words is an approach to transform text to numeric form. "
   ]
  },
  {
   "cell_type": "code",
   "execution_count": 1,
   "id": "740bbf52",
   "metadata": {},
   "outputs": [],
   "source": [
    "# Import the required function\n",
    "import pandas as pd\n",
    "from sklearn.feature_extraction.text import CountVectorizer\n"
   ]
  },
  {
   "cell_type": "code",
   "execution_count": 2,
   "id": "4de3e971",
   "metadata": {},
   "outputs": [],
   "source": [
    "annak = ['Happy families are all alike;', 'every unhappy family is unhappy in its own way']"
   ]
  },
  {
   "cell_type": "code",
   "execution_count": 3,
   "id": "54125465",
   "metadata": {},
   "outputs": [],
   "source": [
    "# Build the vectorizer and fit it\n",
    "anna_vect = CountVectorizer()\n",
    "anna_vect.fit(annak)\n",
    "\n",
    "# Create the bow representation\n",
    "anna_bow = anna_vect.transform(annak)\n"
   ]
  },
  {
   "cell_type": "code",
   "execution_count": 4,
   "id": "00829c61",
   "metadata": {},
   "outputs": [
    {
     "name": "stdout",
     "output_type": "stream",
     "text": [
      "[[1 1 1 0 1 0 1 0 0 0 0 0 0]\n",
      " [0 0 0 1 0 1 0 1 1 1 1 2 1]]\n"
     ]
    }
   ],
   "source": [
    "# Print the bag-of-words result \n",
    "print(anna_bow.toarray())"
   ]
  },
  {
   "cell_type": "markdown",
   "id": "6c943968",
   "metadata": {},
   "source": [
    "We have transformed the first sentence of Anna Karenina to an array counting the frequencies of each word. However, the output is not very readable, is it? We are still missing the names of the features"
   ]
  },
  {
   "cell_type": "code",
   "execution_count": 7,
   "id": "e801e854",
   "metadata": {},
   "outputs": [],
   "source": [
    "imdb = \"E:/Education/NLP/IMDB Dataset.csv\"\n",
    "reviews = pd.read_csv(imdb)"
   ]
  },
  {
   "cell_type": "code",
   "execution_count": 8,
   "id": "a345d6db",
   "metadata": {},
   "outputs": [],
   "source": [
    "# Build the vectorizer, specify max features \n",
    "vect = CountVectorizer(max_features=100)\n",
    "\n",
    "# Fit the vectorizer\n",
    "vect.fit(reviews.review)\n",
    "\n",
    "# Transform the review column\n",
    "X_review = vect.transform(reviews.review)\n"
   ]
  },
  {
   "cell_type": "code",
   "execution_count": 9,
   "id": "4b396786",
   "metadata": {},
   "outputs": [
    {
     "name": "stdout",
     "output_type": "stream",
     "text": [
      "   about  after  all  also  an  and  any  are  as  at  ...  well  were  what  \\\n",
      "0      1      1    1     0   1    6    0    2   4   0  ...     1     0     2   \n",
      "1      1      0    2     0   0    7    0    2   0   0  ...     3     0     0   \n",
      "2      0      0    0     0   0    4    0    1   0   1  ...     1     0     0   \n",
      "3      0      0    3     0   0    4    0    2   2   0  ...     1     0     0   \n",
      "4      2      0    2     0   0    5    0    1   1   0  ...     0     0     1   \n",
      "\n",
      "   when  which  who  will  with  would  you  \n",
      "0     0      1    2     0     5      1    3  \n",
      "1     0      1    0     0     3      0    1  \n",
      "2     1      0    0     0     2      0    0  \n",
      "3     1      1    0     0     3      0    2  \n",
      "4     0      1    0     0     1      0    0  \n",
      "\n",
      "[5 rows x 100 columns]\n"
     ]
    }
   ],
   "source": [
    "# Create the bow representation\n",
    "X_df=pd.DataFrame(X_review.toarray(), columns=vect.get_feature_names())\n",
    "print(X_df.head())"
   ]
  },
  {
   "cell_type": "markdown",
   "id": "271a7903",
   "metadata": {},
   "source": [
    "In the above examples,bagofwords does not maintain the order of words and hence the context gets lost. To maintain context we use ngrams"
   ]
  },
  {
   "cell_type": "code",
   "execution_count": 18,
   "id": "a7569014",
   "metadata": {},
   "outputs": [
    {
     "data": {
      "text/plain": [
       "CountVectorizer(max_df=200, max_features=300, ngram_range=(1, 2))"
      ]
     },
     "execution_count": 18,
     "metadata": {},
     "output_type": "execute_result"
    }
   ],
   "source": [
    "#from sklearn.feature_extraction.text import CountVectorizer \n",
    "\n",
    "# Build the vectorizer, specify token sequence and fit\n",
    "vect = CountVectorizer(max_features=300,ngram_range=(1,2),max_df=200)\n",
    "vect.fit(reviews.review)\n"
   ]
  },
  {
   "cell_type": "code",
   "execution_count": 19,
   "id": "a9156f97",
   "metadata": {},
   "outputs": [],
   "source": [
    "# Transform the review column\n",
    "X_review = vect.transform(reviews.review)"
   ]
  },
  {
   "cell_type": "code",
   "execution_count": 20,
   "id": "8b88703b",
   "metadata": {},
   "outputs": [],
   "source": [
    "# Create the bow representation\n",
    "X_df = pd.DataFrame(X_review.toarray(), columns=vect.get_feature_names())"
   ]
  },
  {
   "cell_type": "code",
   "execution_count": 21,
   "id": "75fbb1dc",
   "metadata": {},
   "outputs": [
    {
     "name": "stdout",
     "output_type": "stream",
     "text": [
      "   10 for  1930  2007  2nd  abc  agents  airplane  airport  alexander  altman  \\\n",
      "0       0     0     0    0    0       0         0        0          0       0   \n",
      "1       0     0     0    0    0       0         0        0          0       0   \n",
      "2       0     0     0    0    0       0         0        0          0       0   \n",
      "3       0     0     0    0    0       0         0        0          0       0   \n",
      "4       0     0     0    0    0       0         0        0          0       0   \n",
      "\n",
      "   ...  warrior  waters  wax  welles  werewolf  willis  woody  wrestling  ya  \\\n",
      "0  ...        0       0    0       0         0       0      0          0   0   \n",
      "1  ...        0       0    0       0         0       0      0          0   0   \n",
      "2  ...        0       0    0       0         0       0      2          0   0   \n",
      "3  ...        0       0    0       0         0       0      0          0   0   \n",
      "4  ...        0       0    0       0         0       0      0          0   0   \n",
      "\n",
      "   yellow  \n",
      "0       0  \n",
      "1       0  \n",
      "2       0  \n",
      "3       0  \n",
      "4       0  \n",
      "\n",
      "[5 rows x 300 columns]\n"
     ]
    }
   ],
   "source": [
    "print(X_df.head())"
   ]
  },
  {
   "cell_type": "code",
   "execution_count": null,
   "id": "fafe5604",
   "metadata": {},
   "outputs": [],
   "source": []
  }
 ],
 "metadata": {
  "kernelspec": {
   "display_name": "Python 3",
   "language": "python",
   "name": "python3"
  },
  "language_info": {
   "codemirror_mode": {
    "name": "ipython",
    "version": 3
   },
   "file_extension": ".py",
   "mimetype": "text/x-python",
   "name": "python",
   "nbconvert_exporter": "python",
   "pygments_lexer": "ipython3",
   "version": "3.8.8"
  }
 },
 "nbformat": 4,
 "nbformat_minor": 5
}
