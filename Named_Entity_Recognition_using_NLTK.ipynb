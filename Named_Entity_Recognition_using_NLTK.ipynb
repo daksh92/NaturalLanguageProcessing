{
 "cells": [
  {
   "cell_type": "markdown",
   "id": "90e76eb5",
   "metadata": {},
   "source": [
    "Import Libraries"
   ]
  },
  {
   "cell_type": "code",
   "execution_count": 1,
   "id": "c3fa1ac3",
   "metadata": {},
   "outputs": [
    {
     "name": "stderr",
     "output_type": "stream",
     "text": [
      "[nltk_data] Downloading package punkt to\n",
      "[nltk_data]     C:\\Users\\daksh\\AppData\\Roaming\\nltk_data...\n",
      "[nltk_data]   Package punkt is already up-to-date!\n",
      "[nltk_data] Downloading package averaged_perceptron_tagger to\n",
      "[nltk_data]     C:\\Users\\daksh\\AppData\\Roaming\\nltk_data...\n",
      "[nltk_data]   Package averaged_perceptron_tagger is already up-to-\n",
      "[nltk_data]       date!\n",
      "[nltk_data] Downloading package maxent_ne_chunker to\n",
      "[nltk_data]     C:\\Users\\daksh\\AppData\\Roaming\\nltk_data...\n",
      "[nltk_data]   Package maxent_ne_chunker is already up-to-date!\n",
      "[nltk_data] Downloading package words to\n",
      "[nltk_data]     C:\\Users\\daksh\\AppData\\Roaming\\nltk_data...\n",
      "[nltk_data]   Package words is already up-to-date!\n"
     ]
    },
    {
     "data": {
      "text/plain": [
       "True"
      ]
     },
     "execution_count": 1,
     "metadata": {},
     "output_type": "execute_result"
    }
   ],
   "source": [
    "import nltk\n",
    "nltk.download('punkt')\n",
    "nltk.download('averaged_perceptron_tagger')\n",
    "nltk.download('maxent_ne_chunker')\n",
    "nltk.download('words')"
   ]
  },
  {
   "cell_type": "code",
   "execution_count": 2,
   "id": "b9be9888",
   "metadata": {},
   "outputs": [],
   "source": [
    "from nltk.tokenize import sent_tokenize,word_tokenize"
   ]
  },
  {
   "cell_type": "markdown",
   "id": "9f728c43",
   "metadata": {},
   "source": [
    "Webscrape an article"
   ]
  },
  {
   "cell_type": "code",
   "execution_count": 3,
   "id": "db465c82",
   "metadata": {
    "scrolled": true
   },
   "outputs": [],
   "source": [
    "from newspaper import Article\n",
    " \n",
    "url = \"https://www.livemint.com/news/india/maharashtra-revises-covid-restrictions-salons-gyms-to-function-with-50-capacity-11641721348539.html\"\n",
    "# download and parse article\n",
    "article = Article(url)\n",
    "article.download()\n",
    "article.parse()\n",
    " \n",
    "#Keep only the text\n",
    "article2 = article.text"
   ]
  },
  {
   "cell_type": "markdown",
   "id": "af83842c",
   "metadata": {},
   "source": [
    "Named Entity Recognition with nltk"
   ]
  },
  {
   "cell_type": "code",
   "execution_count": 4,
   "id": "7107b68e",
   "metadata": {},
   "outputs": [],
   "source": [
    "# Tokenize the article into sentences: sentences\n",
    "sentences = nltk.sent_tokenize(article2)"
   ]
  },
  {
   "cell_type": "code",
   "execution_count": 5,
   "id": "e56de6d6",
   "metadata": {},
   "outputs": [],
   "source": [
    "# Tokenize each sentence into words: token_sentences\n",
    "token_sentences = [nltk.word_tokenize(sent) for sent in sentences]"
   ]
  },
  {
   "cell_type": "code",
   "execution_count": 6,
   "id": "daaf1b5a",
   "metadata": {},
   "outputs": [],
   "source": [
    "# Tag each tokenized sentence into parts of speech: pos_sentences\n",
    "pos_sentences = [nltk.pos_tag(sent) for sent in token_sentences] "
   ]
  },
  {
   "cell_type": "code",
   "execution_count": 19,
   "id": "60d33e8e",
   "metadata": {},
   "outputs": [],
   "source": [
    "# Create the named entity chunks: chunked_sentences\n",
    "chunked_sentences = nltk.ne_chunk_sents(pos_sentences,binary=True)"
   ]
  },
  {
   "cell_type": "code",
   "execution_count": 8,
   "id": "255e917b",
   "metadata": {},
   "outputs": [
    {
     "name": "stdout",
     "output_type": "stream",
     "text": [
      "(NE Maharashtra/NNP)\n",
      "(NE Beauty/NNP)\n",
      "(NE Maharashtra/NNP)\n",
      "(NE Schools/NNP)\n",
      "(NE Maharashtra/NNP)\n",
      "(NE Maharashtra/NNP)\n",
      "(NE Home/NN)\n",
      "(NE Maharashtra/NNP)\n",
      "(NE Omicron/NNP)\n",
      "(NE Indian/JJ Institute/NNP)\n",
      "(NE Science/NNP Education/NNP)\n",
      "(NE Gujarat/NNP)\n",
      "(NE Omicron/NNP)\n",
      "(NE Pune/NNP)\n",
      "(NE Pune/NNP)\n",
      "(NE Ahmednagar/NNP)\n",
      "(NE Mumbai/NNP)\n",
      "(NE Mumbai/NNP)\n",
      "(NE Pune/NNP)\n",
      "(NE Subscribe/NNP)\n",
      "(NE Mint/NNP Newsletters/NNP)\n"
     ]
    }
   ],
   "source": [
    "# Test for stems of the tree with 'NE' tags\n",
    "for sent in chunked_sentences:\n",
    "    for chunk in sent:\n",
    "        if hasattr(chunk, \"label\") and chunk.label() == \"NE\":\n",
    "            print(chunk)"
   ]
  },
  {
   "cell_type": "markdown",
   "id": "17dd1fb1",
   "metadata": {},
   "source": [
    "Charting the data"
   ]
  },
  {
   "cell_type": "code",
   "execution_count": 10,
   "id": "642bb32f",
   "metadata": {},
   "outputs": [],
   "source": [
    "# Create the defaultdict: ner_categories\n",
    "ner_categories = {}\n"
   ]
  },
  {
   "cell_type": "code",
   "execution_count": 11,
   "id": "198c436d",
   "metadata": {},
   "outputs": [],
   "source": [
    "# Create the nested for loop\n",
    "for sent in chunked_sentences:\n",
    "    for chunk in sent:\n",
    "        if hasattr(chunk, 'label'):\n",
    "            ner_categories[chunk.label()] += 1\n",
    "            \n",
    "# Create a list from the dictionary keys for the chart labels: labels\n",
    "labels = list(ner_categories.keys())"
   ]
  },
  {
   "cell_type": "code",
   "execution_count": 12,
   "id": "111d2216",
   "metadata": {},
   "outputs": [],
   "source": [
    "# Create a list of the values: values\n",
    "values = [ner_categories.get(v) for v in labels]"
   ]
  },
  {
   "cell_type": "markdown",
   "id": "49a4c572",
   "metadata": {},
   "source": [
    "Create a Piechart"
   ]
  },
  {
   "cell_type": "code",
   "execution_count": 15,
   "id": "a45eb7e8",
   "metadata": {},
   "outputs": [
    {
     "name": "stderr",
     "output_type": "stream",
     "text": [
      "<ipython-input-15-64e88595858e>:3: MatplotlibDeprecationWarning: normalize=None does not normalize if the sum is less than 1 but this behavior is deprecated since 3.3 until two minor releases later. After the deprecation period the default value will be normalize=True. To prevent normalization pass normalize=False \n",
      "  plt.pie(values, labels=labels, autopct='%1.1f%%', startangle=140)\n"
     ]
    },
    {
     "data": {
      "image/png": "[encoded data removed]",
      "text/plain": [
       "<Figure size 432x288 with 1 Axes>"
      ]
     },
     "metadata": {},
     "output_type": "display_data"
    }
   ],
   "source": [
    "import matplotlib.pyplot as plt"
   ]
  },
  {
   "cell_type": "code",
   "execution_count": null,
   "id": "88ed04d9",
   "metadata": {},
   "outputs": [],
   "source": []
  }
 ],
 "metadata": {
  "kernelspec": {
   "display_name": "Python 3",
   "language": "python",
   "name": "python3"
  },
  "language_info": {
   "codemirror_mode": {
    "name": "ipython",
    "version": 3
   },
   "file_extension": ".py",
   "mimetype": "text/x-python",
   "name": "python",
   "nbconvert_exporter": "python",
   "pygments_lexer": "ipython3",
   "version": "3.8.8"
  }
 },
 "nbformat": 4,
 "nbformat_minor": 5
}
