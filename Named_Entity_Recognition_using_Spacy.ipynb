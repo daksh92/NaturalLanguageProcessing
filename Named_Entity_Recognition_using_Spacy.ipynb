{
 "cells": [
  {
   "cell_type": "code",
   "execution_count": 1,
   "id": "a7c487e3",
   "metadata": {},
   "outputs": [
    {
     "name": "stdout",
     "output_type": "stream",
     "text": [
      "Collecting spacy\n",
      "  Downloading spacy-3.2.1-cp38-cp38-win_amd64.whl (12.2 MB)\n",
      "Collecting typer<0.5.0,>=0.3.0\n",
      "  Downloading typer-0.4.0-py3-none-any.whl (27 kB)\n",
      "Collecting thinc<8.1.0,>=8.0.12\n",
      "  Downloading thinc-8.0.13-cp38-cp38-win_amd64.whl (1.0 MB)\n",
      "Collecting langcodes<4.0.0,>=3.2.0\n",
      "  Downloading langcodes-3.3.0-py3-none-any.whl (181 kB)\n",
      "Requirement already satisfied: packaging>=20.0 in e:\\anaconda\\lib\\site-packages (from spacy) (20.9)\n",
      "Requirement already satisfied: setuptools in e:\\anaconda\\lib\\site-packages (from spacy) (52.0.0.post20210125)\n",
      "Requirement already satisfied: tqdm<5.0.0,>=4.38.0 in e:\\anaconda\\lib\\site-packages (from spacy) (4.59.0)\n",
      "Collecting wasabi<1.1.0,>=0.8.1\n",
      "  Downloading wasabi-0.9.0-py3-none-any.whl (25 kB)\n",
      "Collecting blis<0.8.0,>=0.4.0\n",
      "  Downloading blis-0.7.5-cp38-cp38-win_amd64.whl (6.6 MB)\n",
      "Requirement already satisfied: numpy>=1.15.0 in e:\\anaconda\\lib\\site-packages (from spacy) (1.20.1)\n",
      "Collecting spacy-legacy<3.1.0,>=3.0.8\n",
      "  Downloading spacy_legacy-3.0.8-py2.py3-none-any.whl (14 kB)\n",
      "Collecting pathy>=0.3.5\n",
      "  Downloading pathy-0.6.1-py3-none-any.whl (42 kB)\n",
      "Collecting srsly<3.0.0,>=2.4.1\n",
      "  Downloading srsly-2.4.2-cp38-cp38-win_amd64.whl (452 kB)\n",
      "Collecting catalogue<2.1.0,>=2.0.6\n",
      "  Downloading catalogue-2.0.6-py3-none-any.whl (17 kB)\n",
      "Requirement already satisfied: requests<3.0.0,>=2.13.0 in e:\\anaconda\\lib\\site-packages (from spacy) (2.25.1)\n",
      "Collecting cymem<2.1.0,>=2.0.2\n",
      "  Downloading cymem-2.0.6-cp38-cp38-win_amd64.whl (36 kB)\n",
      "Collecting murmurhash<1.1.0,>=0.28.0\n",
      "  Downloading murmurhash-1.0.6-cp38-cp38-win_amd64.whl (21 kB)\n",
      "Collecting pydantic!=1.8,!=1.8.1,<1.9.0,>=1.7.4\n",
      "  Downloading pydantic-1.8.2-cp38-cp38-win_amd64.whl (2.0 MB)\n",
      "Collecting preshed<3.1.0,>=3.0.2\n",
      "  Downloading preshed-3.0.6-cp38-cp38-win_amd64.whl (113 kB)\n",
      "Requirement already satisfied: jinja2 in e:\\anaconda\\lib\\site-packages (from spacy) (2.11.3)\n",
      "Collecting spacy-loggers<2.0.0,>=1.0.0\n",
      "  Downloading spacy_loggers-1.0.1-py3-none-any.whl (7.0 kB)\n",
      "Requirement already satisfied: pyparsing>=2.0.2 in e:\\anaconda\\lib\\site-packages (from packaging>=20.0->spacy) (2.4.7)\n",
      "Collecting smart-open<6.0.0,>=5.0.0\n",
      "  Downloading smart_open-5.2.1-py3-none-any.whl (58 kB)\n",
      "Requirement already satisfied: typing-extensions>=3.7.4.3 in e:\\anaconda\\lib\\site-packages (from pydantic!=1.8,!=1.8.1,<1.9.0,>=1.7.4->spacy) (3.7.4.3)\n",
      "Requirement already satisfied: idna<3,>=2.5 in e:\\anaconda\\lib\\site-packages (from requests<3.0.0,>=2.13.0->spacy) (2.10)\n",
      "Requirement already satisfied: urllib3<1.27,>=1.21.1 in e:\\anaconda\\lib\\site-packages (from requests<3.0.0,>=2.13.0->spacy) (1.26.4)\n",
      "Requirement already satisfied: chardet<5,>=3.0.2 in e:\\anaconda\\lib\\site-packages (from requests<3.0.0,>=2.13.0->spacy) (4.0.0)\n",
      "Requirement already satisfied: certifi>=2017.4.17 in e:\\anaconda\\lib\\site-packages (from requests<3.0.0,>=2.13.0->spacy) (2020.12.5)\n",
      "Requirement already satisfied: click<9.0.0,>=7.1.1 in e:\\anaconda\\lib\\site-packages (from typer<0.5.0,>=0.3.0->spacy) (7.1.2)\n",
      "Requirement already satisfied: MarkupSafe>=0.23 in e:\\anaconda\\lib\\site-packages (from jinja2->spacy) (1.1.1)\n",
      "Installing collected packages: murmurhash, cymem, catalogue, wasabi, typer, srsly, smart-open, pydantic, preshed, blis, thinc, spacy-loggers, spacy-legacy, pathy, langcodes, spacy\n",
      "Successfully installed blis-0.7.5 catalogue-2.0.6 cymem-2.0.6 langcodes-3.3.0 murmurhash-1.0.6 pathy-0.6.1 preshed-3.0.6 pydantic-1.8.2 smart-open-5.2.1 spacy-3.2.1 spacy-legacy-3.0.8 spacy-loggers-1.0.1 srsly-2.4.2 thinc-8.0.13 typer-0.4.0 wasabi-0.9.0\n"
     ]
    }
   ],
   "source": [
    "!pip install spacy"
   ]
  },
  {
   "cell_type": "markdown",
   "id": "dfcc68cd",
   "metadata": {},
   "source": [
    "Importing an article"
   ]
  },
  {
   "cell_type": "code",
   "execution_count": 3,
   "id": "bc65fcb3",
   "metadata": {},
   "outputs": [],
   "source": [
    "from newspaper import Article\n",
    " \n",
    "url = \"https://www.livemint.com/companies/news/mukesh-ambani-s-reliance-industries-to-buy-stake-in-mandarin-oriental-new-york-for-98-million-11641685663147.html\"\n",
    "# download and parse article\n",
    "article = Article(url)\n",
    "article.download()\n",
    "article.parse()\n",
    " \n",
    "#Keep only the text\n",
    "article2 = article.text"
   ]
  },
  {
   "cell_type": "code",
   "execution_count": 4,
   "id": "7508623e",
   "metadata": {},
   "outputs": [
    {
     "name": "stdout",
     "output_type": "stream",
     "text": [
      "Mukesh Ambani’s Reliance Industries has agreed to buy an indirect 73.37% stake in Mandarin Oriental New York one of the premium luxury hotels in New York City for $98.15 million, Reliance says in a filing Saturday.\n",
      "\n",
      "Reliance Industrial Investments and Holdings, a wholly owned unit of Reliance Industries, will buy the entire issued share capital of Columbus Centre Corp., a company incorporated in the Cayman Islands, which indirectly owns the stake in the luxury hotel.\n",
      "\n",
      "Set up in 2003, Mandarin Oriental New York is an iconic luxury hotel located at 80 Columbus Circle, directly adjacent to the pristine Central Park and Columbus Circle. It has global recognition and has won several influential awards including AAA Five Diamond Hotel, Forbes Five Star Hotel, and Forbes Five Star Spa, among others.\n",
      "\n",
      "It had revenues of US$ 115 million in 2018, US$ 113 million in 2019 and US$ 15 million in 2020. This acquisition will add to the consumer and hospitality footprint of the group. The group already has investments in EIH Ltd (Oberoi Hotels), Stoke Park Limited in UK and is developing state-of-the-art convention centre, hotel and manged residences in BKC Mumbai.\n",
      "\n",
      "The closing of the transaction is anticipated to occur by the end of March 2022 and is subject to certain customary regulatory and other approvals and the satisfaction of certain other conditions.\n",
      "\n",
      "In the event that the other owners of the hotel elect to participate in the sale transaction, RIIHL would acquire the remaining 26.63%, based on the same valuation used for the acquisition of the indirect 73.37% stake.\n",
      "\n",
      "The company said it will also seek to buy the remaining 26.63% from other owners at the same valuation. The transaction is expected to close by the end of March.\n",
      "\n",
      "\n",
      "\n",
      "\n",
      "\n",
      "Subscribe to Mint Newsletters * Enter a valid email * Thank you for subscribing to our newsletter.\n"
     ]
    }
   ],
   "source": [
    "print(article2)"
   ]
  },
  {
   "cell_type": "markdown",
   "id": "adf27ee2",
   "metadata": {},
   "source": [
    "Using Spacy"
   ]
  },
  {
   "cell_type": "code",
   "execution_count": 11,
   "id": "71550480",
   "metadata": {},
   "outputs": [],
   "source": [
    "# Import spacy\n",
    "import spacy"
   ]
  },
  {
   "cell_type": "code",
   "execution_count": 15,
   "id": "68b10277",
   "metadata": {},
   "outputs": [],
   "source": [
    "# Instantiate the English model: nlp\n",
    "nlp = spacy.load(\"en_core_web_sm\")"
   ]
  },
  {
   "cell_type": "code",
   "execution_count": 17,
   "id": "a5c5cc89",
   "metadata": {},
   "outputs": [],
   "source": [
    "# Create a new document: doc\n",
    "doc = nlp(article2)"
   ]
  },
  {
   "cell_type": "code",
   "execution_count": 18,
   "id": "149a7dbf",
   "metadata": {},
   "outputs": [
    {
     "name": "stdout",
     "output_type": "stream",
     "text": [
      "PERSON Mukesh Ambani’s\n",
      "ORG Reliance Industries\n",
      "PERCENT 73.37%\n",
      "EVENT Mandarin Oriental\n",
      "GPE New York\n",
      "GPE New York City\n",
      "MONEY $98.15 million\n",
      "ORG Reliance\n",
      "DATE Saturday\n",
      "ORG Reliance Industrial Investments and Holdings\n",
      "ORG Reliance Industries\n",
      "ORG Columbus Centre Corp.\n",
      "GPE the Cayman Islands\n",
      "DATE 2003\n",
      "ORG Mandarin Oriental\n",
      "GPE New York\n",
      "CARDINAL 80\n",
      "LOC Columbus Circle\n",
      "LOC Central Park\n",
      "LOC Columbus Circle\n",
      "ORG AAA Five\n",
      "ORG Diamond Hotel\n",
      "ORG Forbes Five Star Hotel\n",
      "ORG Forbes Five Star Spa\n",
      "MONEY US$ 115 million\n",
      "DATE 2018\n",
      "MONEY US$ 113 million\n",
      "DATE 2019\n",
      "MONEY US$ 15 million\n",
      "DATE 2020\n",
      "ORG EIH Ltd\n",
      "FAC Stoke Park Limited\n",
      "GPE UK\n",
      "ORG BKC Mumbai\n",
      "DATE the end of March 2022\n",
      "PERCENT 26.63%\n",
      "PERCENT 73.37%\n",
      "PERCENT 26.63%\n",
      "DATE the end of March\n",
      "ORG Subscribe\n"
     ]
    }
   ],
   "source": [
    "# Print all of the found entities and their labels\n",
    "for ent in doc.ents:\n",
    "    print(ent.label_, ent.text)\n"
   ]
  },
  {
   "cell_type": "code",
   "execution_count": null,
   "id": "e3961385",
   "metadata": {},
   "outputs": [],
   "source": []
  }
 ],
 "metadata": {
  "kernelspec": {
   "display_name": "Python 3",
   "language": "python",
   "name": "python3"
  },
  "language_info": {
   "codemirror_mode": {
    "name": "ipython",
    "version": 3
   },
   "file_extension": ".py",
   "mimetype": "text/x-python",
   "name": "python",
   "nbconvert_exporter": "python",
   "pygments_lexer": "ipython3",
   "version": "3.8.8"
  }
 },
 "nbformat": 4,
 "nbformat_minor": 5
}
